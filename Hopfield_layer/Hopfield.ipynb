{
 "cells": [
  {
   "cell_type": "code",
   "execution_count": 444,
   "id": "bc8e86b8-f3b1-4c8d-8366-00cf5a34c5dd",
   "metadata": {},
   "outputs": [],
   "source": [
    "import torch\n",
    "from torchvision.utils import save_image\n",
    "import matplotlib.pyplot as plt\n",
    "from PIL import Image\n"
   ]
  },
  {
   "cell_type": "code",
   "execution_count": 460,
   "id": "a6d2fbc4-ea11-4803-b02c-27344a038ddc",
   "metadata": {},
   "outputs": [],
   "source": [
    "#from PIL import Image\n",
    "img = Image.open('Pooling.png').convert('L')\n",
    "new_image = img.resize((1000, 1000))\n",
    "new_image.save('Poolingb.png')"
   ]
  },
  {
   "cell_type": "code",
   "execution_count": 446,
   "id": "c9bc380e-af9f-428d-9ef8-b257adc35402",
   "metadata": {},
   "outputs": [],
   "source": [
    "array1 = plt.imread('1.png')\n",
    "array2 = plt.imread('2.png')\n",
    "array3 = plt.imread('3.png')\n",
    "array4 = plt.imread('4.png')\n",
    "array5 = plt.imread('5.png')\n",
    "array6 = plt.imread('6.png')\n",
    "array7 = plt.imread('7.png')\n",
    "array8 = plt.imread('8.png')\n",
    "array9 = plt.imread('9.png')\n",
    "array10 = plt.imread('10.png')\n",
    "array11 = plt.imread('11.png')\n",
    "array12 = plt.imread('12.png')\n",
    "array13 = plt.imread('13.png')\n",
    "array14 = plt.imread('14.png')\n",
    "array15 = plt.imread('15.png')\n",
    "array16 = plt.imread('16.png')\n",
    "array17 = plt.imread('17.png')\n",
    "array18 = plt.imread('18.png')\n",
    "array19 = plt.imread('19.png')\n",
    "array20 = plt.imread('20.png')\n",
    "array21 = plt.imread('21.png')\n",
    "\n",
    "\n",
    "R = plt.imread('11b.png')"
   ]
  },
  {
   "cell_type": "code",
   "execution_count": 447,
   "id": "c5b0de6c-c30f-43d9-b296-ee1a8a94ceb6",
   "metadata": {},
   "outputs": [],
   "source": [
    "array1 = array1.reshape(-1)\n",
    "R      = R.reshape(-1)\n",
    "array2 = array2.reshape(-1)\n",
    "array3 = array3.reshape(-1)\n",
    "array4 = array4.reshape(-1)\n",
    "array5 = array5.reshape(-1)\n",
    "array6 = array6.reshape(-1)\n",
    "array7 = array7.reshape(-1)\n",
    "array8 = array8.reshape(-1)\n",
    "array9 = array9.reshape(-1)\n",
    "array10 = array10.reshape(-1)\n",
    "array11 = array11.reshape(-1)\n",
    "array12 = array12.reshape(-1)\n",
    "array13 = array13.reshape(-1)\n",
    "array14 = array14.reshape(-1)\n",
    "array15 = array15.reshape(-1)\n",
    "array16 = array16.reshape(-1)\n",
    "array17 = array17.reshape(-1)\n",
    "array18 = array18.reshape(-1)\n",
    "array19 = array19.reshape(-1)\n",
    "array20 = array20.reshape(-1)\n",
    "array21 = array21.reshape(-1)\n",
    "\n",
    "\n"
   ]
  },
  {
   "cell_type": "code",
   "execution_count": 448,
   "id": "c5e4570f-433b-4bd7-9a7f-cd81a4f991fd",
   "metadata": {},
   "outputs": [],
   "source": [
    "array1= torch.from_numpy(array1)\n",
    "R     = torch.from_numpy(R)\n",
    "array2= torch.from_numpy(array2)\n",
    "array3= torch.from_numpy(array3)\n",
    "array4= torch.from_numpy(array4)\n",
    "array5= torch.from_numpy(array5)\n",
    "array6= torch.from_numpy(array6)\n",
    "array7= torch.from_numpy(array7)\n",
    "array8= torch.from_numpy(array8)\n",
    "array9= torch.from_numpy(array9)\n",
    "array10= torch.from_numpy(array10)\n",
    "array11= torch.from_numpy(array11)\n",
    "array12= torch.from_numpy(array12)\n",
    "array13= torch.from_numpy(array13)\n",
    "array14= torch.from_numpy(array14)\n",
    "array15= torch.from_numpy(array15)\n",
    "array16= torch.from_numpy(array16)\n",
    "array17= torch.from_numpy(array17)\n",
    "array18= torch.from_numpy(array18)\n",
    "array19= torch.from_numpy(array19)\n",
    "array20= torch.from_numpy(array20)\n",
    "array21= torch.from_numpy(array21)\n",
    "\n",
    "save_image(R.reshape(500,500), 'R.png')\n",
    "\n"
   ]
  },
  {
   "cell_type": "code",
   "execution_count": 449,
   "id": "48176a00-89cf-45c6-8e4b-83e25dce3f6f",
   "metadata": {},
   "outputs": [],
   "source": [
    "Y=torch.stack((array1, array2,array3,array4,array5,array6,array7,array8,array9,array10,array11,array12,array13,array14,array15,array16,array17,array18,array19,array20,array21), dim=0)"
   ]
  },
  {
   "cell_type": "code",
   "execution_count": 450,
   "id": "806a6554-c506-4e11-8996-16a475b1799a",
   "metadata": {},
   "outputs": [
    {
     "data": {
      "text/plain": [
       "torch.Size([21, 250000])"
      ]
     },
     "execution_count": 450,
     "metadata": {},
     "output_type": "execute_result"
    }
   ],
   "source": [
    "Y.shape\n"
   ]
  },
  {
   "cell_type": "code",
   "execution_count": 451,
   "id": "5f9a9cb5-79d2-4539-8d91-aef31bb700c9",
   "metadata": {},
   "outputs": [],
   "source": [
    "#save_image(Y[0].reshape(500,500), 'BIN_ima.png')\n"
   ]
  },
  {
   "cell_type": "code",
   "execution_count": 452,
   "id": "0bbb7e08-aa9e-4610-a24b-965796004d27",
   "metadata": {},
   "outputs": [],
   "source": [
    "beta = 0.0001  #blur\n",
    "beta = 0.41  #blur\n"
   ]
  },
  {
   "cell_type": "code",
   "execution_count": 453,
   "id": "6680b780-1bf5-46e8-b82c-56cc7389e4bd",
   "metadata": {},
   "outputs": [
    {
     "data": {
      "text/plain": [
       "torch.Size([250000, 21])"
      ]
     },
     "execution_count": 453,
     "metadata": {},
     "output_type": "execute_result"
    }
   ],
   "source": [
    "Y.T.shape"
   ]
  },
  {
   "cell_type": "code",
   "execution_count": 454,
   "id": "b1478a5f-bd83-4332-84bc-09b2c4b4c6dc",
   "metadata": {},
   "outputs": [],
   "source": [
    "R=R.unsqueeze(0)\n",
    "W = torch.tensor([])"
   ]
  },
  {
   "cell_type": "code",
   "execution_count": 455,
   "id": "09aee9bb-2dc2-4447-8ff4-4c5b1b6ef417",
   "metadata": {},
   "outputs": [
    {
     "data": {
      "text/plain": [
       "tensor([[30687.5840, 31281.8203, 27073.4609, 31018.1230, 29759.4219, 31479.4082,\n",
       "         28888.6113, 30604.0586, 31788.1582, 24330.2637, 30489.8438, 32136.3438,\n",
       "         24341.6016, 30992.0059, 25341.0566, 27773.0879, 23857.0312, 25840.5898,\n",
       "         29445.6016, 31315.5879, 28385.9082]])"
      ]
     },
     "execution_count": 455,
     "metadata": {},
     "output_type": "execute_result"
    }
   ],
   "source": [
    "d= beta *R @ Y.T\n",
    "d"
   ]
  },
  {
   "cell_type": "code",
   "execution_count": 456,
   "id": "afb576be-80e6-44ad-ae56-39009b9b2c08",
   "metadata": {},
   "outputs": [
    {
     "data": {
      "text/plain": [
       "tensor([[0., 0., 0., 0., 0., 0., 0., 0., 0., 0., 0., 1., 0., 0., 0., 0., 0., 0.,\n",
       "         0., 0., 0.]])"
      ]
     },
     "execution_count": 456,
     "metadata": {},
     "output_type": "execute_result"
    }
   ],
   "source": [
    "d=torch.nn.functional.softmax(d, dim=1)\n",
    "d.shape\n",
    "d"
   ]
  },
  {
   "cell_type": "code",
   "execution_count": null,
   "id": "d901d73e-b348-4733-9137-569a93849333",
   "metadata": {},
   "outputs": [],
   "source": [
    "W = "
   ]
  },
  {
   "cell_type": "code",
   "execution_count": 457,
   "id": "e4b6d9a3-ee2a-429b-9601-539eb75c53c3",
   "metadata": {},
   "outputs": [
    {
     "data": {
      "text/plain": [
       "torch.Size([250000])"
      ]
     },
     "execution_count": 457,
     "metadata": {},
     "output_type": "execute_result"
    }
   ],
   "source": [
    "Z= d @ Y\n",
    "Z=torch.squeeze(Z)\n",
    "Z.shape"
   ]
  },
  {
   "cell_type": "code",
   "execution_count": 458,
   "id": "bfa9ed65-5078-43af-9c40-8ada58770d9a",
   "metadata": {},
   "outputs": [
    {
     "data": {
      "text/plain": [
       "tensor([0.5098, 0.5098, 0.5098,  ..., 0.3412, 0.3412, 0.3412])"
      ]
     },
     "execution_count": 458,
     "metadata": {},
     "output_type": "execute_result"
    }
   ],
   "source": [
    "Z"
   ]
  },
  {
   "cell_type": "code",
   "execution_count": 459,
   "id": "9ac34d21-b968-4e3b-819b-9ab8a4ea53d4",
   "metadata": {},
   "outputs": [],
   "source": [
    "save_image(Z.reshape(500,500), 'Z.png')"
   ]
  },
  {
   "cell_type": "code",
   "execution_count": null,
   "id": "1e9618f9-980a-4ef2-9a2c-61413767f58e",
   "metadata": {},
   "outputs": [],
   "source": []
  },
  {
   "cell_type": "code",
   "execution_count": null,
   "id": "49ba29dd-94a5-414f-82c3-6056709a547e",
   "metadata": {},
   "outputs": [],
   "source": []
  },
  {
   "cell_type": "code",
   "execution_count": null,
   "id": "30c04d74-bd05-4a95-be05-e118f2bd1ac5",
   "metadata": {},
   "outputs": [],
   "source": []
  }
 ],
 "metadata": {
  "kernelspec": {
   "display_name": "Python 3 (ipykernel)",
   "language": "python",
   "name": "python3"
  },
  "language_info": {
   "codemirror_mode": {
    "name": "ipython",
    "version": 3
   },
   "file_extension": ".py",
   "mimetype": "text/x-python",
   "name": "python",
   "nbconvert_exporter": "python",
   "pygments_lexer": "ipython3",
   "version": "3.10.12"
  }
 },
 "nbformat": 4,
 "nbformat_minor": 5
}
